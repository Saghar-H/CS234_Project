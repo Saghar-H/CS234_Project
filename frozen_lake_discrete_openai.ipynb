{
 "cells": [
  {
   "cell_type": "code",
   "execution_count": 16,
   "metadata": {},
   "outputs": [],
   "source": [
    "import gym\n",
    "import pdb\n",
    "import numpy as np\n",
    "import random\n",
    "from pprint import pprint"
   ]
  },
  {
   "cell_type": "code",
   "execution_count": 19,
   "metadata": {},
   "outputs": [],
   "source": [
    "def get_discounted_rewards(episode_rewards, gamma):\n",
    "    discounted_rewards = [0] * (len(episode_rewards) + 1)\n",
    "    for i in range(len(episode_rewards)-1,-1,-1):\n",
    "        discounted_rewards[i] = discounted_rewards[i+1] * gamma + episode_rewards[i]\n",
    "    return discounted_rewards[:-1]\n",
    "    "
   ]
  },
  {
   "cell_type": "code",
   "execution_count": 20,
   "metadata": {},
   "outputs": [],
   "source": [
    "def init_env(env_name, seed):\n",
    "    env = gym.make('FrozenLake-v0')\n",
    "    env.reset()\n",
    "    random.seed(seed)\n",
    "    env.seed(seed)\n",
    "    return env"
   ]
  },
  {
   "cell_type": "code",
   "execution_count": null,
   "metadata": {},
   "outputs": [],
   "source": [
    "done = False\n",
    "seed = 1358\n",
    "env_name = 'FrozenLake-v0'\n",
    "env = init_env(env_name, seed)\n",
    "\n",
    "num_episodes = 10\n",
    "G = []\n",
    "transition_probs = env.env.P\n",
    "gamma = .5\n",
    "\n",
    "for ep in range(num_episodes):\n",
    "    ep_rewards = []\n",
    "    env.reset()\n",
    "    done = False\n",
    "    while not done:\n",
    "        env.render()\n",
    "        state, reward, done, info = env.step(random.randint(0, env.action_space.n - 1))\n",
    "        ep_rewards.append(reward)\n",
    "    ep_discountedrewards = get_discounted_rewards(ep_rewards, gamma)\n",
    "    G.append(ep_discountedrewards)\n",
    "print(G)"
   ]
  },
  {
   "cell_type": "code",
   "execution_count": null,
   "metadata": {},
   "outputs": [],
   "source": []
  },
  {
   "cell_type": "code",
   "execution_count": null,
   "metadata": {},
   "outputs": [],
   "source": []
  }
 ],
 "metadata": {
  "kernelspec": {
   "display_name": "Python 3",
   "language": "python",
   "name": "python3"
  },
  "language_info": {
   "codemirror_mode": {
    "name": "ipython",
    "version": 3
   },
   "file_extension": ".py",
   "mimetype": "text/x-python",
   "name": "python",
   "nbconvert_exporter": "python",
   "pygments_lexer": "ipython3",
   "version": "3.6.5"
  }
 },
 "nbformat": 4,
 "nbformat_minor": 2
}
